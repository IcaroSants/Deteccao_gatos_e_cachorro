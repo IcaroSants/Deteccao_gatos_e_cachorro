{
 "cells": [
  {
   "cell_type": "markdown",
   "id": "adb02fa1-5a09-40c0-87c6-56e153bc73a8",
   "metadata": {},
   "source": [
    "# Organização\n",
    "\n",
    "Esse notebook serve para criar os diretorios onde serão colocadas as imagens e os rotulos do dataset"
   ]
  },
  {
   "cell_type": "code",
   "execution_count": 1,
   "id": "1fe3afcd-e40d-42ee-b815-833e1b3eb5d0",
   "metadata": {},
   "outputs": [],
   "source": [
    "import os\n",
    "import glob\n",
    "from lxml import objectify\n",
    "from shutil import copy"
   ]
  },
  {
   "cell_type": "code",
   "execution_count": 2,
   "id": "7d955383-abdb-4266-9230-9b8b550c0371",
   "metadata": {},
   "outputs": [],
   "source": [
    "os.mkdir('images')\n",
    "os.mkdir('annotations')"
   ]
  },
  {
   "cell_type": "code",
   "execution_count": 3,
   "id": "8d022e1d-571e-404f-882b-ba95e14e37b8",
   "metadata": {},
   "outputs": [],
   "source": [
    "annotations = glob.glob('Asirra: cat vs dogs/*.xml')"
   ]
  },
  {
   "cell_type": "code",
   "execution_count": 4,
   "id": "0a7c2e39-c4c3-4c12-a04f-0158d314b8bf",
   "metadata": {},
   "outputs": [],
   "source": [
    "source_file_image = []\n",
    "dst_file_image = []\n",
    "annotations_dst = []\n",
    "\n",
    "for annotation in annotations:\n",
    "    xml = objectify.parse(annotation)\n",
    "    file = xml.find('filename')\n",
    "    path_source_for_image = os.path.join('Asirra: cat vs dogs',str(file))\n",
    "    path_dst_for_image = os.path.join('images',str(file))\n",
    "    \n",
    "    annotation_file = annotation.split('/')[1]\n",
    "    path_dst_file = os.path.join('annotations',annotation_file)\n",
    "    \n",
    "    source_file_image.append(path_source_for_image)\n",
    "    dst_file_image.append(path_dst_for_image)\n",
    "    \n",
    "    annotations_dst.append(path_dst_file)\n",
    "    "
   ]
  },
  {
   "cell_type": "code",
   "execution_count": 5,
   "id": "66cb6388-3119-410a-9f7c-59edce485b05",
   "metadata": {},
   "outputs": [],
   "source": [
    "for ann_source, ann_dst, img_source, img_dst in zip(annotations, annotations_dst, source_file_image, dst_file_image):\n",
    "    copy(ann_source, ann_dst)\n",
    "    copy(img_source, img_dst)"
   ]
  }
 ],
 "metadata": {
  "kernelspec": {
   "display_name": "Python 3 (ipykernel)",
   "language": "python",
   "name": "python3"
  },
  "language_info": {
   "codemirror_mode": {
    "name": "ipython",
    "version": 3
   },
   "file_extension": ".py",
   "mimetype": "text/x-python",
   "name": "python",
   "nbconvert_exporter": "python",
   "pygments_lexer": "ipython3",
   "version": "3.10.6"
  }
 },
 "nbformat": 4,
 "nbformat_minor": 5
}
